{
  "nbformat": 4,
  "nbformat_minor": 0,
  "metadata": {
    "colab": {
      "name": "Untitled1.ipynb",
      "provenance": [],
      "authorship_tag": "ABX9TyNevLcMxPSMlTIc3CWdD2cg",
      "include_colab_link": true
    },
    "kernelspec": {
      "name": "python3",
      "display_name": "Python 3"
    },
    "language_info": {
      "name": "python"
    }
  },
  "cells": [
    {
      "cell_type": "markdown",
      "metadata": {
        "id": "view-in-github",
        "colab_type": "text"
      },
      "source": [
        "<a href=\"https://colab.research.google.com/github/nikhleshwer/simplex/blob/main/simplex.ipynb\" target=\"_parent\"><img src=\"https://colab.research.google.com/assets/colab-badge.svg\" alt=\"Open In Colab\"/></a>"
      ]
    },
    {
      "cell_type": "code",
      "execution_count": 9,
      "metadata": {
        "colab": {
          "base_uri": "https://localhost:8080/"
        },
        "id": "Wd_LNchTraGT",
        "outputId": "d100d6ce-b263-4b5c-fa92-7a18bd28b9c6"
      },
      "outputs": [
        {
          "output_type": "execute_result",
          "data": {
            "text/plain": [
              "     con: array([], dtype=float64)\n",
              "     fun: -132.0\n",
              " message: 'Optimization terminated successfully.'\n",
              "     nit: 4\n",
              "   slack: array([14.,  0.,  0.])\n",
              "  status: 0\n",
              " success: True\n",
              "       x: array([15., 12.])"
            ]
          },
          "metadata": {},
          "execution_count": 9
        }
      ],
      "source": [
        "import numpy as np\n",
        "from scipy.optimize import linprog\n",
        "obj = [-4,-6] #These are coefficients of our objective function\n",
        "lhs = [[-1,1],[1,1],[2,5]] #LHS Inequalities\n",
        "rhs = [11,27,90]\n",
        "#lhs_eq = [[x1,x2],[y1,y2]] This will be required if there is an equality constraint not required here\n",
        "#rhs_eq = [[a1,a2]] This will be required if there is an equality constraint RHS value of the same\n",
        "bnd = [(0,float('inf')),(0,float('inf'))] #This is boundary of our decision variables used because positive\n",
        "#optimization = linprog(c = obj,\n",
        "#                       A_ub = lhs,\n",
        "#                      b_ub = rhs,\n",
        "#                      bounds = bnd,\n",
        "#                      A_eq = lhs_eq,\n",
        "#                      b_eq = rhs_eq\n",
        "#                      method = 'simplex')\n",
        "\n",
        "#If we had equality constraints we would've used the A_eq and b_eq variables. \n",
        "\n",
        "optimization = linprog(c = obj,\n",
        "                       A_ub = lhs,\n",
        "                      b_ub = rhs,\n",
        "                      bounds = bnd,\n",
        "                      method = 'simplex')\n",
        "optimization"
      ]
    }
  ]
}